{
 "cells": [
  {
   "cell_type": "code",
   "execution_count": null,
   "id": "4d96a39a-c1d4-4204-aaa6-cc57d179de17",
   "metadata": {},
   "outputs": [],
   "source": [
    "import pandas as pd\n",
    "from bs4 import BeautifulSoup\n",
    "import requests\n",
    "import re\n",
    "import time\n",
    "\n",
    "def escraper(initial, supreme, waiting_time):\n",
    "    animes = {\"ID\": [], \"Title\": [], \"Synopsis\": [], \"Score\":[]}\n",
    "    for i in range(initial, supreme):\n",
    "        url = \"https://myanimelist.net/anime/\"+str(i)\n",
    "        time.sleep(waiting_time)\n",
    "        page = requests.get(url)\n",
    "        soup = BeautifulSoup(page.text,\"html.parser\")\n",
    "        certificate = soup.find(text=\"This page doesn't exist.\")\n",
    "        if certificate == None:\n",
    "            print(f\"Anime {i} successfully retrieved!\")\n",
    "            meta_description_syn = soup.find(\"meta\", property=\"og:description\")\n",
    "            if meta_description_syn == None: #Then we overloaded MAL.\n",
    "                print(f\"But synopsis is unreachable for some reason? (Restart kernel)\")\n",
    "                anim = pd.DataFrame.from_dict(animes)\n",
    "                anim.to_csv(str(initial)+'Mallanimelist.csv')\n",
    "                break\n",
    "            else:\n",
    "                animes[\"ID\"].append(i)\n",
    "                sainopsis = meta_description_syn.get(\"content\")\n",
    "                animes[\"Synopsis\"].append(sainopsis)\n",
    "        \n",
    "                tairul = soup.find_all(\"title\")\n",
    "                titulo = re.sub(\"<title>\", '', str(tairul[0]))\n",
    "                titulo = re.sub(\" - MyAnimeList.net\", '', titulo)\n",
    "                titulo = re.sub(\"</title>\", '', titulo)\n",
    "                titulo = re.sub(\"\\n\", '', titulo)\n",
    "                animes[\"Title\"].append(titulo)\n",
    "\n",
    "                score_element = soup.find(\"span\", class_=\"score-label\")\n",
    "                scor = score_element.text.strip()\n",
    "                animes[\"Score\"].append(scor)\n",
    "    anim = pd.DataFrame.from_dict(animes)\n",
    "    anim.to_csv(str(initial)+'Mallanimelist.csv')"
   ]
  },
  {
   "cell_type": "markdown",
   "id": "afd8ee87-db14-41cf-aa70-581e9f81a2e3",
   "metadata": {},
   "source": [
    "HOW TO GET THE supreme VALUE:\n",
    "\n",
    "1.- Go to: https://myanimelist.net/anime.php?o=9&c%5B0%5D=a&c%5B1%5D=d&cv=2&w=1\n",
    "\n",
    "2.- Obtain the last anime till today. September 6, 2023 is Longzhu_Xun_Youji with ID 56559\n",
    "\n",
    "3.- Round up that number to taste. In my particular case, I picked supreme = 56560 since I made my run just few hours after my query (at most, one new anime might be uploaded)\n",
    "\n",
    "4.- WARNING: Don't pick a brutally upper bound since the program will keep running until reaching that upper bound.\n",
    "             Don't waste resources: every python run kills at least one Koala, so make their lives worth it (poor Koalas)."
   ]
  },
  {
   "cell_type": "code",
   "execution_count": null,
   "id": "c7e56086-a1a9-46ae-bdfa-b0861c7157c9",
   "metadata": {},
   "outputs": [],
   "source": [
    "waiting_time = 3\n",
    "initial = 28892 #693 #127 #28891 (internet gonne for a while)\n",
    "supreme = 56560"
   ]
  },
  {
   "cell_type": "code",
   "execution_count": null,
   "id": "f2b813d6-1e31-4dea-a0cf-391d32b080a5",
   "metadata": {},
   "outputs": [],
   "source": [
    "import math\n",
    "\n",
    "#Ya escrapeamos todos los animes antes de 28891.\n",
    "tamaño_segmento = 500\n",
    "mumero = (56600 - 28891)\n",
    "a_segmentar = math.ceil(mumero/tamaño_segmento) #Cuántos segmentos hay de tamaño 500, redondeado hacia arriba porsi las porsis.\n",
    "print(a_segmentar)\n",
    "\n",
    "for i in range(a_segmentar): #Checamos los 56 segmentos de tamaño 500 que hay entre 56600 y 28891\n",
    "    inicio = 28891+i*(tamaño_segmento)+1\n",
    "    final = 28891+(i+1)*(tamaño_segmento)\n",
    "    print(\"********************\")\n",
    "    print(f\"Starts in: {inicio}\")\n",
    "    print(f\"Ends in: {final}\")\n",
    "    print(\"********************\")\n",
    "    escraper(inicio, final, waiting_time)\n",
    "\n",
    "#####ENGLISH NOTES:\n",
    "#Segmento is used in the same sense as Batch. so tamaño_segmento == batch_size."
   ]
  }
 ],
 "metadata": {
  "kernelspec": {
   "display_name": "Python 3 (ipykernel)",
   "language": "python",
   "name": "python3"
  },
  "language_info": {
   "codemirror_mode": {
    "name": "ipython",
    "version": 3
   },
   "file_extension": ".py",
   "mimetype": "text/x-python",
   "name": "python",
   "nbconvert_exporter": "python",
   "pygments_lexer": "ipython3",
   "version": "3.11.5"
  }
 },
 "nbformat": 4,
 "nbformat_minor": 5
}
